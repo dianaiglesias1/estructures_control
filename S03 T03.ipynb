{
 "cells": [
  {
   "cell_type": "markdown",
   "id": "3e042447",
   "metadata": {},
   "source": [
    "## S03 T03: Estructura de control"
   ]
  },
  {
   "cell_type": "markdown",
   "id": "d381d766",
   "metadata": {},
   "source": [
    "### Exercici 1"
   ]
  },
  {
   "cell_type": "markdown",
   "id": "aec16abc",
   "metadata": {},
   "source": [
    "L'exercici consisteix a crear un programa que et classifiqui una variable numèrica en funció de l’escala Suspès/Aprovat/Notable/Excel·lent. "
   ]
  },
  {
   "cell_type": "code",
   "execution_count": 61,
   "id": "2cd8bb1f",
   "metadata": {},
   "outputs": [
    {
     "name": "stdout",
     "output_type": "stream",
     "text": [
      "Has tret un notable.\n"
     ]
    }
   ],
   "source": [
    "#fem servir les condicions if, elif i else per a crear una funció que ens retorni una resposta en funció del valor\n",
    "#que introduïm\n",
    "\n",
    "def nota(num):\n",
    "\n",
    "    if num >=5:\n",
    "        if num >=5 and num <7:\n",
    "            print(\"Has tret un aprovat.\")\n",
    "        if num >=7 and num <9:\n",
    "            print(\"Has tret un notable.\")\n",
    "        if num>=9 and num <=10:\n",
    "            print(\"Has tret un excel.lent\")\n",
    "    elif num<5:\n",
    "        print(\"Has suspès\")\n",
    "    else:\n",
    "        print(\"El número no es vàlid\")\n",
    "\n",
    "#Cridem la funció amb el valor que volem comprovar\n",
    "    \n",
    "nota(7)"
   ]
  },
  {
   "cell_type": "markdown",
   "id": "32eb3957",
   "metadata": {},
   "source": [
    "### Exercici 2"
   ]
  },
  {
   "cell_type": "markdown",
   "id": "0d9ebcaf",
   "metadata": {},
   "source": [
    "Utilitzant el següent tutorial Programiz: Python Input, Output and Import crea un programa que et pregunti dos números. T’ha de mostrar un missatge dient si el primer és més gran, el segon és més gran o són iguals."
   ]
  },
  {
   "cell_type": "code",
   "execution_count": 62,
   "id": "587f44c2",
   "metadata": {},
   "outputs": [
    {
     "name": "stdout",
     "output_type": "stream",
     "text": [
      "Introdueix el primer número: 0\n",
      "Introdueix el segon número: 2\n",
      "0 és més petit que 2\n"
     ]
    }
   ],
   "source": [
    "#preguntem a l'usuari dos números\n",
    "\n",
    "num1=input(\"Introdueix el primer número: \")\n",
    "num2=input(\"Introdueix el segon número: \")\n",
    "\n",
    "if num1>num2: print(num1, \"és més gran que\", num2)\n",
    "elif num1==num2: print(num1, \"és igual que\", num2)\n",
    "else: print(num1, \"és més petit que\", num2)            "
   ]
  },
  {
   "cell_type": "markdown",
   "id": "4ff465ba",
   "metadata": {},
   "source": [
    "### Exercici 3"
   ]
  },
  {
   "cell_type": "markdown",
   "id": "f32ff51f",
   "metadata": {},
   "source": [
    "Crea un programa que et pregunti el teu nom, i et demani un número. Si el número és 0, hauria de mostrar un missatge d’error. En cas contrari, hauria de mostrar el nom repetit tants cops com indiqui el número. Per exemple, “Joan Joan Joan”."
   ]
  },
  {
   "cell_type": "code",
   "execution_count": 63,
   "id": "8e83e51c",
   "metadata": {},
   "outputs": [
    {
     "name": "stdout",
     "output_type": "stream",
     "text": [
      "Indica un número que no sigui 0: 3\n",
      "Indica el teu nom: Diana\n",
      "Diana Diana Diana\n"
     ]
    }
   ],
   "source": [
    "#preguntem a l'usuari\n",
    "\n",
    "num=input(\"Indica un número que no sigui 0: \")\n",
    "num=int(num)\n",
    "\n",
    "#afegim la condició de que si num=0, ens imprimeixi \"Error\" i amb el while fem que tornin a introduir un número\n",
    "#multipliquem el nom introduït pel número. Amb el mètode .join() afegim espais entre les repeticions del nom\n",
    "\n",
    "i=1\n",
    "if num==0: print(\"Error!\",num, \"no és un número vàlid\")\n",
    "while num==0:\n",
    "    num=input(\"Indica un número: \")\n",
    "    i+=1\n",
    "else: \n",
    "    nom=input(\"Indica el teu nom: \")\n",
    "    print(' '.join([nom]*int(num)))"
   ]
  },
  {
   "cell_type": "markdown",
   "id": "538f33a8",
   "metadata": {},
   "source": [
    "### Exercici 4"
   ]
  },
  {
   "cell_type": "markdown",
   "id": "b0d1ee05",
   "metadata": {},
   "source": [
    "Crea un programa que donada una llista qualsevol, et digui si es simètrica o no. Si ho és, que et digui quants elements té."
   ]
  },
  {
   "cell_type": "code",
   "execution_count": 65,
   "id": "d87e15e6",
   "metadata": {},
   "outputs": [
    {
     "name": "stdout",
     "output_type": "stream",
     "text": [
      "[2, 5, 2]\n",
      "La llista és simètrica\n",
      "La llista conté 3 elements\n",
      "[2, 5, 2, 4]\n",
      "La llista no és simètrica\n"
     ]
    }
   ],
   "source": [
    "#definim una funció per tal de saber si una llista és simètrica. Apliquem el mètode .reverse() i comparem el resultat\n",
    "#aplicant condicionals per retornar un misstage en funció de si es compleix o no la condició\n",
    "\n",
    "def llista_simetrica(llista):\n",
    "\n",
    "    llista_reverse=llista.copy()\n",
    "    llista.reverse()\n",
    "    print(llista_reverse)\n",
    "    if llista==llista_reverse:\n",
    "        print(\"La llista és simètrica\")\n",
    "        print(\"La llista conté\", len(llista), \"elements\")\n",
    "    else:\n",
    "        print(\"La llista no és simètrica\")\n",
    "\n",
    "#cridem la funció amb un exemple\n",
    "llista=[2,5,2]\n",
    "llista_simetrica(llista)\n",
    "\n",
    "#cridem la funció amb un altre exemple\n",
    "llista=[2,5,2,4]\n",
    "llista_simetrica(llista)"
   ]
  },
  {
   "cell_type": "markdown",
   "id": "3d2b83e5",
   "metadata": {},
   "source": [
    "### Exercici 5"
   ]
  },
  {
   "cell_type": "markdown",
   "id": "dfe1ecb4",
   "metadata": {},
   "source": [
    "Crea un programa que donada una llista, et digui quants números coincideixen amb la seva posició. Per exemple [3,4,2,0,2,3,6] el 2 i el 6 coincideixen."
   ]
  },
  {
   "cell_type": "code",
   "execution_count": 66,
   "id": "1cfde636",
   "metadata": {},
   "outputs": [
    {
     "name": "stdout",
     "output_type": "stream",
     "text": [
      "Els números que coincideixen amb el seu índex són [2, 6]\n"
     ]
    }
   ],
   "source": [
    "#creem la funció. Primer, creem una variable per a guardar tots els valors coincidents que ens retorni el loop\n",
    "#fem servir el mètode \"enumerate\" que retorna l'índex i el valor de cada element\n",
    "#el loop itera cada índex i cada valor de la llista. Si coincideixen ens guardarà el valor a la variable \"resultat\"\n",
    "\n",
    "def coincidencies(llista):\n",
    "\n",
    "    resultat=[]\n",
    "    for index, element in enumerate(llista):\n",
    "        if index == element:\n",
    "            resultat.append(element)\n",
    "    print(\"Els números que coincideixen amb el seu índex són\", resultat)\n",
    "\n",
    "\n",
    "#Provem la funció\n",
    "llista=[3,4,2,0,2,3,6]\n",
    "\n",
    "coincidencies(llista)"
   ]
  }
 ],
 "metadata": {
  "kernelspec": {
   "display_name": "Python 3 (ipykernel)",
   "language": "python",
   "name": "python3"
  },
  "language_info": {
   "codemirror_mode": {
    "name": "ipython",
    "version": 3
   },
   "file_extension": ".py",
   "mimetype": "text/x-python",
   "name": "python",
   "nbconvert_exporter": "python",
   "pygments_lexer": "ipython3",
   "version": "3.8.8"
  }
 },
 "nbformat": 4,
 "nbformat_minor": 5
}
